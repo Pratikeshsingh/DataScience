{
 "cells": [
  {
   "cell_type": "code",
   "execution_count": 22,
   "id": "d32bfc2e",
   "metadata": {},
   "outputs": [],
   "source": [
    "import pandas as pd\n",
    "import numpy as np\n",
    "import seaborn as sns"
   ]
  },
  {
   "cell_type": "code",
   "execution_count": 2,
   "id": "25cdfe2a",
   "metadata": {},
   "outputs": [],
   "source": [
    "df=pd.read_csv('GPA_business_case_Dataset.csv')"
   ]
  },
  {
   "cell_type": "code",
   "execution_count": 3,
   "id": "b710dad0",
   "metadata": {},
   "outputs": [
    {
     "data": {
      "text/html": [
       "<div>\n",
       "<style scoped>\n",
       "    .dataframe tbody tr th:only-of-type {\n",
       "        vertical-align: middle;\n",
       "    }\n",
       "\n",
       "    .dataframe tbody tr th {\n",
       "        vertical-align: top;\n",
       "    }\n",
       "\n",
       "    .dataframe thead th {\n",
       "        text-align: right;\n",
       "    }\n",
       "</style>\n",
       "<table border=\"1\" class=\"dataframe\">\n",
       "  <thead>\n",
       "    <tr style=\"text-align: right;\">\n",
       "      <th></th>\n",
       "      <th>AdID</th>\n",
       "      <th>UserID</th>\n",
       "      <th>StartDate</th>\n",
       "      <th>StartTime</th>\n",
       "      <th>AskingPrice</th>\n",
       "      <th>ParentCategory</th>\n",
       "      <th>Category</th>\n",
       "      <th>AdType</th>\n",
       "      <th>NumberofReplies</th>\n",
       "      <th>NumberOfPhotos</th>\n",
       "    </tr>\n",
       "  </thead>\n",
       "  <tbody>\n",
       "    <tr>\n",
       "      <th>0</th>\n",
       "      <td>1130838526</td>\n",
       "      <td>1002781115</td>\n",
       "      <td>1/7/2016</td>\n",
       "      <td>2:46:57</td>\n",
       "      <td>0.01</td>\n",
       "      <td>pets</td>\n",
       "      <td>fish for sale</td>\n",
       "      <td>For Sale</td>\n",
       "      <td>4</td>\n",
       "      <td>2</td>\n",
       "    </tr>\n",
       "    <tr>\n",
       "      <th>1</th>\n",
       "      <td>1134972586</td>\n",
       "      <td>52373435</td>\n",
       "      <td>1/23/2016</td>\n",
       "      <td>21:43:30</td>\n",
       "      <td>815.00</td>\n",
       "      <td>real estate</td>\n",
       "      <td>apartments, condos</td>\n",
       "      <td>For Sale</td>\n",
       "      <td>3</td>\n",
       "      <td>9</td>\n",
       "    </tr>\n",
       "    <tr>\n",
       "      <th>2</th>\n",
       "      <td>1135195447</td>\n",
       "      <td>1001422061</td>\n",
       "      <td>1/25/2016</td>\n",
       "      <td>0:31:03</td>\n",
       "      <td>95.00</td>\n",
       "      <td>buy and sell</td>\n",
       "      <td>electronics</td>\n",
       "      <td>For Sale</td>\n",
       "      <td>3</td>\n",
       "      <td>2</td>\n",
       "    </tr>\n",
       "    <tr>\n",
       "      <th>3</th>\n",
       "      <td>1132922786</td>\n",
       "      <td>61778180</td>\n",
       "      <td>1/15/2016</td>\n",
       "      <td>15:48:02</td>\n",
       "      <td>699900.00</td>\n",
       "      <td>real estate</td>\n",
       "      <td>houses for sale</td>\n",
       "      <td>For Sale</td>\n",
       "      <td>1</td>\n",
       "      <td>10</td>\n",
       "    </tr>\n",
       "    <tr>\n",
       "      <th>4</th>\n",
       "      <td>1136201259</td>\n",
       "      <td>53431649</td>\n",
       "      <td>1/28/2016</td>\n",
       "      <td>20:55:44</td>\n",
       "      <td>340.00</td>\n",
       "      <td>buy and sell</td>\n",
       "      <td>furniture</td>\n",
       "      <td>For Sale</td>\n",
       "      <td>5</td>\n",
       "      <td>7</td>\n",
       "    </tr>\n",
       "  </tbody>\n",
       "</table>\n",
       "</div>"
      ],
      "text/plain": [
       "         AdID      UserID  StartDate StartTime  AskingPrice ParentCategory  \\\n",
       "0  1130838526  1002781115   1/7/2016   2:46:57         0.01           pets   \n",
       "1  1134972586    52373435  1/23/2016  21:43:30       815.00    real estate   \n",
       "2  1135195447  1001422061  1/25/2016   0:31:03        95.00   buy and sell   \n",
       "3  1132922786    61778180  1/15/2016  15:48:02    699900.00    real estate   \n",
       "4  1136201259    53431649  1/28/2016  20:55:44       340.00   buy and sell   \n",
       "\n",
       "             Category    AdType  NumberofReplies  NumberOfPhotos  \n",
       "0       fish for sale  For Sale                4               2  \n",
       "1  apartments, condos  For Sale                3               9  \n",
       "2         electronics  For Sale                3               2  \n",
       "3     houses for sale  For Sale                1              10  \n",
       "4           furniture  For Sale                5               7  "
      ]
     },
     "execution_count": 3,
     "metadata": {},
     "output_type": "execute_result"
    }
   ],
   "source": [
    "df.head()"
   ]
  },
  {
   "cell_type": "code",
   "execution_count": 4,
   "id": "8bdb8c1c",
   "metadata": {},
   "outputs": [
    {
     "data": {
      "text/plain": [
       "485242"
      ]
     },
     "execution_count": 4,
     "metadata": {},
     "output_type": "execute_result"
    }
   ],
   "source": [
    "#number of unique users\n",
    "df['UserID'].nunique()"
   ]
  },
  {
   "cell_type": "code",
   "execution_count": 5,
   "id": "e9095f0c",
   "metadata": {},
   "outputs": [
    {
     "data": {
      "text/plain": [
       "1048575"
      ]
     },
     "execution_count": 5,
     "metadata": {},
     "output_type": "execute_result"
    }
   ],
   "source": [
    "#number of unique ads\n",
    "df['AdID'].nunique()"
   ]
  },
  {
   "cell_type": "code",
   "execution_count": 6,
   "id": "3abdcc0a",
   "metadata": {},
   "outputs": [
    {
     "data": {
      "text/plain": [
       "31"
      ]
     },
     "execution_count": 6,
     "metadata": {},
     "output_type": "execute_result"
    }
   ],
   "source": [
    "#number of unique dates\n",
    "df['StartDate'].nunique()"
   ]
  },
  {
   "cell_type": "code",
   "execution_count": 7,
   "id": "8fc6956b",
   "metadata": {},
   "outputs": [],
   "source": [
    "#Converting time to hour\n",
    "df['hour'] = pd.to_datetime(df['StartTime'], format='%H:%M:%S').dt.hour"
   ]
  },
  {
   "cell_type": "code",
   "execution_count": 8,
   "id": "7337641b",
   "metadata": {},
   "outputs": [
    {
     "data": {
      "text/plain": [
       "<AxesSubplot:>"
      ]
     },
     "execution_count": 8,
     "metadata": {},
     "output_type": "execute_result"
    },
    {
     "data": {
      "image/png": "[encoded data removed]",
      "text/plain": [
       "<Figure size 432x288 with 1 Axes>"
      ]
     },
     "metadata": {
      "needs_background": "light"
     },
     "output_type": "display_data"
    }
   ],
   "source": [
    "#At hour 16 most number of ads are coming in\n",
    "#This is sorted by time of day\n",
    "df.hour.value_counts().sort_index().plot(kind = 'bar')"
   ]
  },
  {
   "cell_type": "code",
   "execution_count": 9,
   "id": "a01adff4",
   "metadata": {},
   "outputs": [
    {
     "data": {
      "text/plain": [
       "<AxesSubplot:>"
      ]
     },
     "execution_count": 9,
     "metadata": {},
     "output_type": "execute_result"
    },
    {
     "data": {
      "image/png": "[encoded data removed]",
      "text/plain": [
       "<Figure size 432x288 with 1 Axes>"
      ]
     },
     "metadata": {
      "needs_background": "light"
     },
     "output_type": "display_data"
    }
   ],
   "source": [
    "#this is sorted by number of products added by time\n",
    "df.hour.value_counts().sort_values().plot(kind = 'bar')"
   ]
  },
  {
   "cell_type": "code",
   "execution_count": 10,
   "id": "3e8c87be",
   "metadata": {},
   "outputs": [
    {
     "data": {
      "text/plain": [
       "3"
      ]
     },
     "execution_count": 10,
     "metadata": {},
     "output_type": "execute_result"
    }
   ],
   "source": [
    "#number of unique adtypes.\n",
    "df['AdType'].nunique()"
   ]
  },
  {
   "cell_type": "code",
   "execution_count": 11,
   "id": "a488add5",
   "metadata": {},
   "outputs": [
    {
     "data": {
      "text/plain": [
       "array(['For Sale', 'Wanted', 'Null'], dtype=object)"
      ]
     },
     "execution_count": 11,
     "metadata": {},
     "output_type": "execute_result"
    }
   ],
   "source": [
    "#These are the unique ad types. there must be some relevance for these too\n",
    "df['AdType'].unique()"
   ]
  },
  {
   "cell_type": "code",
   "execution_count": 12,
   "id": "4ebe764a",
   "metadata": {},
   "outputs": [
    {
     "data": {
      "text/plain": [
       "AdType\n",
       "For Sale    1013450\n",
       "Null            129\n",
       "Wanted        34996\n",
       "Name: AdID, dtype: int64"
      ]
     },
     "execution_count": 12,
     "metadata": {},
     "output_type": "execute_result"
    }
   ],
   "source": [
    "#count of each adtype\n",
    "df.groupby(['AdType'])['AdID'].count()"
   ]
  },
  {
   "cell_type": "code",
   "execution_count": 16,
   "id": "476b3b6a",
   "metadata": {},
   "outputs": [
    {
     "data": {
      "text/plain": [
       "For Sale    96.650216\n",
       "Wanted       3.337482\n",
       "Null         0.012302\n",
       "Name: AdType, dtype: float64"
      ]
     },
     "execution_count": 16,
     "metadata": {},
     "output_type": "execute_result"
    }
   ],
   "source": [
    "#Percentage of each adtype\n",
    "df.AdType.value_counts()/sum(df.AdType.value_counts())*100.0"
   ]
  },
  {
   "cell_type": "code",
   "execution_count": 13,
   "id": "9d99c130",
   "metadata": {},
   "outputs": [
    {
     "data": {
      "text/plain": [
       "9"
      ]
     },
     "execution_count": 13,
     "metadata": {},
     "output_type": "execute_result"
    }
   ],
   "source": [
    "#number of unique parent categories.\n",
    "df['ParentCategory'].nunique()"
   ]
  },
  {
   "cell_type": "code",
   "execution_count": 14,
   "id": "787db361",
   "metadata": {},
   "outputs": [
    {
     "data": {
      "text/plain": [
       "ParentCategory\n",
       "buy and sell        656417\n",
       "cars & vehicles     135612\n",
       "community             9955\n",
       "jobs                 18369\n",
       "pets                 20076\n",
       "real estate          88532\n",
       "resumes               6277\n",
       "services            112143\n",
       "vacation rentals      1194\n",
       "Name: AdID, dtype: int64"
      ]
     },
     "execution_count": 14,
     "metadata": {},
     "output_type": "execute_result"
    }
   ],
   "source": [
    "#count of each parent category\n",
    "df.groupby(['ParentCategory'])['AdID'].count()"
   ]
  },
  {
   "cell_type": "code",
   "execution_count": 15,
   "id": "4e9e8035",
   "metadata": {},
   "outputs": [
    {
     "data": {
      "text/plain": [
       "buy and sell        62.600863\n",
       "cars & vehicles     12.932980\n",
       "services            10.694800\n",
       "real estate          8.443078\n",
       "pets                 1.914598\n",
       "jobs                 1.751806\n",
       "community            0.949384\n",
       "resumes              0.598622\n",
       "vacation rentals     0.113869\n",
       "Name: ParentCategory, dtype: float64"
      ]
     },
     "execution_count": 15,
     "metadata": {},
     "output_type": "execute_result"
    }
   ],
   "source": [
    "#Percentage of each parent category\n",
    "df.ParentCategory.value_counts()/sum(df.ParentCategory.value_counts())*100.0"
   ]
  },
  {
   "cell_type": "code",
   "execution_count": 17,
   "id": "a6e65c35",
   "metadata": {},
   "outputs": [
    {
     "data": {
      "text/plain": [
       "107"
      ]
     },
     "execution_count": 17,
     "metadata": {},
     "output_type": "execute_result"
    }
   ],
   "source": [
    "#number of unique categories.\n",
    "df['Category'].nunique()"
   ]
  },
  {
   "cell_type": "code",
   "execution_count": 18,
   "id": "b69f4c28",
   "metadata": {},
   "outputs": [
    {
     "data": {
      "text/plain": [
       "furniture                  7.179458\n",
       "clothing                   6.075865\n",
       "auto parts, tires          5.326372\n",
       "other                      4.302697\n",
       "phones                     4.128365\n",
       "                             ...   \n",
       "Mexico                     0.007439\n",
       "missed connections         0.006485\n",
       "long lost relationships    0.004005\n",
       "Caribbean                  0.002956\n",
       "Other Countries            0.002098\n",
       "Name: Category, Length: 107, dtype: float64"
      ]
     },
     "execution_count": 18,
     "metadata": {},
     "output_type": "execute_result"
    }
   ],
   "source": [
    "#Percentage of each parent category\n",
    "df.Category.value_counts()/sum(df.Category.value_counts())*100.0"
   ]
  },
  {
   "cell_type": "code",
   "execution_count": 19,
   "id": "824132a9",
   "metadata": {},
   "outputs": [],
   "source": [
    "#Creating a new variable to identify if products have replies or not\n",
    "df['is_replied'] = np.where(\n",
    "     df['NumberofReplies']==0, \n",
    "    'no', \n",
    "     np.where(\n",
    "        df['NumberofReplies']>0, 'yes', 'Unknown'\n",
    "     )\n",
    ")\n",
    "\n"
   ]
  },
  {
   "cell_type": "code",
   "execution_count": 20,
   "id": "441b0fa0",
   "metadata": {},
   "outputs": [
    {
     "data": {
      "text/html": [
       "<div>\n",
       "<style scoped>\n",
       "    .dataframe tbody tr th:only-of-type {\n",
       "        vertical-align: middle;\n",
       "    }\n",
       "\n",
       "    .dataframe tbody tr th {\n",
       "        vertical-align: top;\n",
       "    }\n",
       "\n",
       "    .dataframe thead th {\n",
       "        text-align: right;\n",
       "    }\n",
       "</style>\n",
       "<table border=\"1\" class=\"dataframe\">\n",
       "  <thead>\n",
       "    <tr style=\"text-align: right;\">\n",
       "      <th></th>\n",
       "      <th>ParentCategory</th>\n",
       "      <th>is_replied</th>\n",
       "      <th>AdID</th>\n",
       "    </tr>\n",
       "  </thead>\n",
       "  <tbody>\n",
       "    <tr>\n",
       "      <th>0</th>\n",
       "      <td>buy and sell</td>\n",
       "      <td>no</td>\n",
       "      <td>49.788625</td>\n",
       "    </tr>\n",
       "    <tr>\n",
       "      <th>1</th>\n",
       "      <td>buy and sell</td>\n",
       "      <td>yes</td>\n",
       "      <td>50.211375</td>\n",
       "    </tr>\n",
       "    <tr>\n",
       "      <th>2</th>\n",
       "      <td>cars &amp; vehicles</td>\n",
       "      <td>no</td>\n",
       "      <td>41.352535</td>\n",
       "    </tr>\n",
       "    <tr>\n",
       "      <th>3</th>\n",
       "      <td>cars &amp; vehicles</td>\n",
       "      <td>yes</td>\n",
       "      <td>58.647465</td>\n",
       "    </tr>\n",
       "    <tr>\n",
       "      <th>4</th>\n",
       "      <td>community</td>\n",
       "      <td>no</td>\n",
       "      <td>59.397288</td>\n",
       "    </tr>\n",
       "    <tr>\n",
       "      <th>5</th>\n",
       "      <td>community</td>\n",
       "      <td>yes</td>\n",
       "      <td>40.602712</td>\n",
       "    </tr>\n",
       "    <tr>\n",
       "      <th>6</th>\n",
       "      <td>jobs</td>\n",
       "      <td>no</td>\n",
       "      <td>20.599924</td>\n",
       "    </tr>\n",
       "    <tr>\n",
       "      <th>7</th>\n",
       "      <td>jobs</td>\n",
       "      <td>yes</td>\n",
       "      <td>79.400076</td>\n",
       "    </tr>\n",
       "    <tr>\n",
       "      <th>8</th>\n",
       "      <td>pets</td>\n",
       "      <td>no</td>\n",
       "      <td>31.191472</td>\n",
       "    </tr>\n",
       "    <tr>\n",
       "      <th>9</th>\n",
       "      <td>pets</td>\n",
       "      <td>yes</td>\n",
       "      <td>68.808528</td>\n",
       "    </tr>\n",
       "    <tr>\n",
       "      <th>10</th>\n",
       "      <td>real estate</td>\n",
       "      <td>no</td>\n",
       "      <td>50.221389</td>\n",
       "    </tr>\n",
       "    <tr>\n",
       "      <th>11</th>\n",
       "      <td>real estate</td>\n",
       "      <td>yes</td>\n",
       "      <td>49.778611</td>\n",
       "    </tr>\n",
       "    <tr>\n",
       "      <th>12</th>\n",
       "      <td>resumes</td>\n",
       "      <td>no</td>\n",
       "      <td>47.936913</td>\n",
       "    </tr>\n",
       "    <tr>\n",
       "      <th>13</th>\n",
       "      <td>resumes</td>\n",
       "      <td>yes</td>\n",
       "      <td>52.063087</td>\n",
       "    </tr>\n",
       "    <tr>\n",
       "      <th>14</th>\n",
       "      <td>services</td>\n",
       "      <td>no</td>\n",
       "      <td>78.882320</td>\n",
       "    </tr>\n",
       "    <tr>\n",
       "      <th>15</th>\n",
       "      <td>services</td>\n",
       "      <td>yes</td>\n",
       "      <td>21.117680</td>\n",
       "    </tr>\n",
       "    <tr>\n",
       "      <th>16</th>\n",
       "      <td>vacation rentals</td>\n",
       "      <td>no</td>\n",
       "      <td>40.954774</td>\n",
       "    </tr>\n",
       "    <tr>\n",
       "      <th>17</th>\n",
       "      <td>vacation rentals</td>\n",
       "      <td>yes</td>\n",
       "      <td>59.045226</td>\n",
       "    </tr>\n",
       "  </tbody>\n",
       "</table>\n",
       "</div>"
      ],
      "text/plain": [
       "      ParentCategory is_replied       AdID\n",
       "0       buy and sell         no  49.788625\n",
       "1       buy and sell        yes  50.211375\n",
       "2    cars & vehicles         no  41.352535\n",
       "3    cars & vehicles        yes  58.647465\n",
       "4          community         no  59.397288\n",
       "5          community        yes  40.602712\n",
       "6               jobs         no  20.599924\n",
       "7               jobs        yes  79.400076\n",
       "8               pets         no  31.191472\n",
       "9               pets        yes  68.808528\n",
       "10       real estate         no  50.221389\n",
       "11       real estate        yes  49.778611\n",
       "12           resumes         no  47.936913\n",
       "13           resumes        yes  52.063087\n",
       "14          services         no  78.882320\n",
       "15          services        yes  21.117680\n",
       "16  vacation rentals         no  40.954774\n",
       "17  vacation rentals        yes  59.045226"
      ]
     },
     "execution_count": 20,
     "metadata": {},
     "output_type": "execute_result"
    }
   ],
   "source": [
    "#Finding Ad categories with most ad views\n",
    "grouped = df.groupby(['ParentCategory','is_replied']).agg({'AdID': 'count'})\n",
    "# Change: groupby state_office and divide by sum\n",
    "replies_pcts = grouped.groupby(level=0).apply(lambda x:\n",
    "                                                 100 * x / float(x.sum()))\n",
    "data=replies_pcts.reset_index()\n",
    "data"
   ]
  },
  {
   "cell_type": "code",
   "execution_count": 23,
   "id": "da24cf93",
   "metadata": {},
   "outputs": [
    {
     "data": {
      "text/plain": [
       "<seaborn.axisgrid.FacetGrid at 0x7fd968c78430>"
      ]
     },
     "execution_count": 23,
     "metadata": {},
     "output_type": "execute_result"
    },
    {
     "data": {
      "image/png": "[encoded data removed]",
      "text/plain": [
       "<Figure size 898.025x595.44 with 1 Axes>"
      ]
     },
     "metadata": {
      "needs_background": "light"
     },
     "output_type": "display_data"
    }
   ],
   "source": [
    "#Visualising products with replies\n",
    "\n",
    "g = sns.catplot(x='ParentCategory', y='AdID', hue='is_replied', kind='bar', data=data,height=8.27, aspect=11.7/8.27)\n",
    "# g.ax.set_ylim(0,100)\n",
    "g.set(ylabel = \"% Ads\")"
   ]
  },
  {
   "cell_type": "code",
   "execution_count": 24,
   "id": "d2333aaf",
   "metadata": {},
   "outputs": [
    {
     "data": {
      "text/plain": [
       "<AxesSubplot:>"
      ]
     },
     "execution_count": 24,
     "metadata": {},
     "output_type": "execute_result"
    },
    {
     "data": {
      "image/png": "[encoded data removed]",
      "text/plain": [
       "<Figure size 432x288 with 1 Axes>"
      ]
     },
     "metadata": {
      "needs_background": "light"
     },
     "output_type": "display_data"
    }
   ],
   "source": [
    "#visual for distribution of number of replies\n",
    "data=df[df['NumberofReplies']>0]\n",
    "data = data[data['NumberofReplies']<20]\n",
    "data.NumberofReplies.value_counts().sort_index().plot()"
   ]
  },
  {
   "cell_type": "code",
   "execution_count": 25,
   "id": "0b708c33",
   "metadata": {},
   "outputs": [],
   "source": [
    "#Most products get less than 2 replies. And afte 10 replies the graph tends to be very low and stabilizes"
   ]
  },
  {
   "cell_type": "code",
   "execution_count": 26,
   "id": "d0d91ca8",
   "metadata": {},
   "outputs": [
    {
     "data": {
      "text/plain": [
       "<AxesSubplot:xlabel='ParentCategory', ylabel='% of total ads'>"
      ]
     },
     "execution_count": 26,
     "metadata": {},
     "output_type": "execute_result"
    },
    {
     "data": {
      "image/png": "[encoded data removed]",
      "text/plain": [
       "<Figure size 720x576 with 1 Axes>"
      ]
     },
     "metadata": {
      "needs_background": "light"
     },
     "output_type": "display_data"
    }
   ],
   "source": [
    "#finding which category have most ads\n",
    "data=df.ParentCategory.value_counts()/sum(df.ParentCategory.value_counts())*100.0\n",
    "data.plot(figsize=(10,8),xlabel='ParentCategory',ylabel='% of total ads')"
   ]
  },
  {
   "cell_type": "code",
   "execution_count": 28,
   "id": "6e5f7e80",
   "metadata": {},
   "outputs": [
    {
     "data": {
      "text/plain": [
       "buy and sell        62.600863\n",
       "cars & vehicles     12.932980\n",
       "services            10.694800\n",
       "real estate          8.443078\n",
       "pets                 1.914598\n",
       "jobs                 1.751806\n",
       "community            0.949384\n",
       "resumes              0.598622\n",
       "vacation rentals     0.113869\n",
       "Name: ParentCategory, dtype: float64"
      ]
     },
     "execution_count": 28,
     "metadata": {},
     "output_type": "execute_result"
    }
   ],
   "source": [
    "#as can be seen in the graph above and also in the below counts. 62% of the ads are from buy and sell categories.\n",
    "data"
   ]
  },
  {
   "cell_type": "code",
   "execution_count": 31,
   "id": "b69d5ab7",
   "metadata": {},
   "outputs": [
    {
     "data": {
      "image/png": "[encoded data removed]",
      "text/plain": [
       "<Figure size 1332x756 with 1 Axes>"
      ]
     },
     "metadata": {
      "needs_background": "light"
     },
     "output_type": "display_data"
    }
   ],
   "source": [
    "#Number of replies vs number of photos\n",
    "g= sns.regplot(x=df[\"NumberofReplies\"], y=df[\"NumberOfPhotos\"])\n",
    "g.figure.set_size_inches(18.5, 10.5)"
   ]
  },
  {
   "cell_type": "code",
   "execution_count": 32,
   "id": "3add6457",
   "metadata": {},
   "outputs": [
    {
     "data": {
      "text/html": [
       "<div>\n",
       "<style scoped>\n",
       "    .dataframe tbody tr th:only-of-type {\n",
       "        vertical-align: middle;\n",
       "    }\n",
       "\n",
       "    .dataframe tbody tr th {\n",
       "        vertical-align: top;\n",
       "    }\n",
       "\n",
       "    .dataframe thead th {\n",
       "        text-align: right;\n",
       "    }\n",
       "</style>\n",
       "<table border=\"1\" class=\"dataframe\">\n",
       "  <thead>\n",
       "    <tr style=\"text-align: right;\">\n",
       "      <th></th>\n",
       "      <th>UserID</th>\n",
       "      <th>ParentCategory</th>\n",
       "      <th>AdID</th>\n",
       "    </tr>\n",
       "  </thead>\n",
       "  <tbody>\n",
       "    <tr>\n",
       "      <th>0</th>\n",
       "      <td>2106</td>\n",
       "      <td>buy and sell</td>\n",
       "      <td>2</td>\n",
       "    </tr>\n",
       "    <tr>\n",
       "      <th>1</th>\n",
       "      <td>2345</td>\n",
       "      <td>services</td>\n",
       "      <td>2</td>\n",
       "    </tr>\n",
       "    <tr>\n",
       "      <th>2</th>\n",
       "      <td>3122</td>\n",
       "      <td>buy and sell</td>\n",
       "      <td>1</td>\n",
       "    </tr>\n",
       "    <tr>\n",
       "      <th>3</th>\n",
       "      <td>6397</td>\n",
       "      <td>buy and sell</td>\n",
       "      <td>1</td>\n",
       "    </tr>\n",
       "    <tr>\n",
       "      <th>4</th>\n",
       "      <td>6558</td>\n",
       "      <td>services</td>\n",
       "      <td>1</td>\n",
       "    </tr>\n",
       "    <tr>\n",
       "      <th>...</th>\n",
       "      <td>...</td>\n",
       "      <td>...</td>\n",
       "      <td>...</td>\n",
       "    </tr>\n",
       "    <tr>\n",
       "      <th>516336</th>\n",
       "      <td>1005159139</td>\n",
       "      <td>jobs</td>\n",
       "      <td>1</td>\n",
       "    </tr>\n",
       "    <tr>\n",
       "      <th>516337</th>\n",
       "      <td>1005159300</td>\n",
       "      <td>services</td>\n",
       "      <td>1</td>\n",
       "    </tr>\n",
       "    <tr>\n",
       "      <th>516338</th>\n",
       "      <td>1005159301</td>\n",
       "      <td>services</td>\n",
       "      <td>1</td>\n",
       "    </tr>\n",
       "    <tr>\n",
       "      <th>516339</th>\n",
       "      <td>1005159306</td>\n",
       "      <td>buy and sell</td>\n",
       "      <td>1</td>\n",
       "    </tr>\n",
       "    <tr>\n",
       "      <th>516340</th>\n",
       "      <td>1005159314</td>\n",
       "      <td>buy and sell</td>\n",
       "      <td>1</td>\n",
       "    </tr>\n",
       "  </tbody>\n",
       "</table>\n",
       "<p>516341 rows × 3 columns</p>\n",
       "</div>"
      ],
      "text/plain": [
       "            UserID ParentCategory  AdID\n",
       "0             2106   buy and sell     2\n",
       "1             2345       services     2\n",
       "2             3122   buy and sell     1\n",
       "3             6397   buy and sell     1\n",
       "4             6558       services     1\n",
       "...            ...            ...   ...\n",
       "516336  1005159139           jobs     1\n",
       "516337  1005159300       services     1\n",
       "516338  1005159301       services     1\n",
       "516339  1005159306   buy and sell     1\n",
       "516340  1005159314   buy and sell     1\n",
       "\n",
       "[516341 rows x 3 columns]"
      ]
     },
     "execution_count": 32,
     "metadata": {},
     "output_type": "execute_result"
    }
   ],
   "source": [
    "#listing in more than 1 category\n",
    "df.groupby(['UserID','ParentCategory'])['AdID'].count().reset_index()"
   ]
  },
  {
   "cell_type": "code",
   "execution_count": 34,
   "id": "46f3c35e",
   "metadata": {},
   "outputs": [
    {
     "name": "stdout",
     "output_type": "stream",
     "text": [
      "90th percentile of arr :  1000.0\n",
      "25th percentile of arr :  0.0\n"
     ]
    }
   ],
   "source": [
    "print(\"90th percentile of arr : \",\n",
    "       np.percentile(df['AskingPrice'], 90))\n",
    "print(\"25th percentile of arr : \",\n",
    "       np.percentile(df['AskingPrice'], 25))"
   ]
  },
  {
   "cell_type": "code",
   "execution_count": 35,
   "id": "d1fe4ef5",
   "metadata": {},
   "outputs": [
    {
     "data": {
      "image/png": "[encoded data removed]",
      "text/plain": [
       "<Figure size 1332x756 with 1 Axes>"
      ]
     },
     "metadata": {
      "needs_background": "light"
     },
     "output_type": "display_data"
    }
   ],
   "source": [
    "#getting data between 25th and 90th percentile and plotting\n",
    "data=df[(df[\"AskingPrice\"]>0) & (df[\"AskingPrice\"]<1000)]\n",
    "g=sns.regplot(x=data[\"NumberofReplies\"], y=data[\"AskingPrice\"])\n",
    "g.figure.set_size_inches(18.5, 10.5)"
   ]
  },
  {
   "cell_type": "code",
   "execution_count": 38,
   "id": "aa84e6d7",
   "metadata": {},
   "outputs": [
    {
     "name": "stderr",
     "output_type": "stream",
     "text": [
      "<ipython-input-38-d67d36d53fcd>:6: SettingWithCopyWarning: \n",
      "A value is trying to be set on a copy of a slice from a DataFrame.\n",
      "Try using .loc[row_indexer,col_indexer] = value instead\n",
      "\n",
      "See the caveats in the documentation: https://pandas.pydata.org/pandas-docs/stable/user_guide/indexing.html#returning-a-view-versus-a-copy\n",
      "  data['ParentCategory']= le.fit_transform(data['ParentCategory'])\n",
      "<ipython-input-38-d67d36d53fcd>:7: SettingWithCopyWarning: \n",
      "A value is trying to be set on a copy of a slice from a DataFrame.\n",
      "Try using .loc[row_indexer,col_indexer] = value instead\n",
      "\n",
      "See the caveats in the documentation: https://pandas.pydata.org/pandas-docs/stable/user_guide/indexing.html#returning-a-view-versus-a-copy\n",
      "  data['Category']= le.fit_transform(data['Category'])\n"
     ]
    }
   ],
   "source": [
    "#Modelling to find Feature importance and number of replies\n",
    "from sklearn import preprocessing\n",
    "data=df[['AskingPrice','ParentCategory','Category','NumberofReplies','NumberOfPhotos','hour']]\n",
    "le = preprocessing.LabelEncoder()\n",
    "  \n",
    "data['ParentCategory']= le.fit_transform(data['ParentCategory'])\n",
    "data['Category']= le.fit_transform(data['Category'])"
   ]
  },
  {
   "cell_type": "code",
   "execution_count": 39,
   "id": "76c3eb62",
   "metadata": {},
   "outputs": [
    {
     "name": "stdout",
     "output_type": "stream",
     "text": [
      "0.5097694396972656\n",
      "[[130696   3070    142 ...      0      0      0]\n",
      " [ 51428   2788    156 ...      0      0      0]\n",
      " [ 23961   1724    126 ...      0      0      0]\n",
      " ...\n",
      " [     1      0      0 ...      0      0      0]\n",
      " [     1      0      0 ...      0      0      0]\n",
      " [     1      0      0 ...      0      0      0]]\n"
     ]
    },
    {
     "data": {
      "image/png": "[encoded data removed]",
      "text/plain": [
       "<Figure size 720x720 with 1 Axes>"
      ]
     },
     "metadata": {
      "needs_background": "light"
     },
     "output_type": "display_data"
    }
   ],
   "source": [
    "from sklearn.model_selection import train_test_split\n",
    "from sklearn.metrics import confusion_matrix\n",
    "X_train, X_test, y_train, y_test = train_test_split(data.drop('NumberofReplies',axis=1),data['NumberofReplies'])\n",
    "from sklearn.ensemble import RandomForestClassifier\n",
    "rf = RandomForestClassifier(min_samples_leaf=20, n_estimators=200).fit(X_train,y_train)\n",
    "rf_pred = rf.predict(X_test)\n",
    "print(rf.score(X_test,y_test))\n",
    "print(confusion_matrix(y_test,rf_pred))\n",
    "importances = rf.feature_importances_\n",
    "std = np.std([tree.feature_importances_ for tree in rf.estimators_],\n",
    "             axis=0)\n",
    "indices = np.argsort(importances)[::-1]\n",
    "col_name = data.drop('NumberofReplies',axis=1).columns.values\n",
    "# Plot the feature importances of the forest\n",
    "import matplotlib.pyplot as plt\n",
    "fig = plt.figure(figsize=(10,10))\n",
    "plt.title(\"Feature importances\")\n",
    "plt.bar(range(X_train.shape[1]),\n",
    "        importances[indices],\n",
    "        yerr=std[indices],\n",
    "        align=\"center\")\n",
    "plt.xticks(range(X_train.shape[1]), np.array(col_name)[indices])\n",
    "plt.xlim([-1, X_train.shape[1]])\n",
    "fig.autofmt_xdate()\n",
    "plt.show()"
   ]
  },
  {
   "cell_type": "code",
   "execution_count": 40,
   "id": "03ca00a3",
   "metadata": {},
   "outputs": [
    {
     "data": {
      "text/html": [
       "<div>\n",
       "<style scoped>\n",
       "    .dataframe tbody tr th:only-of-type {\n",
       "        vertical-align: middle;\n",
       "    }\n",
       "\n",
       "    .dataframe tbody tr th {\n",
       "        vertical-align: top;\n",
       "    }\n",
       "\n",
       "    .dataframe thead th {\n",
       "        text-align: right;\n",
       "    }\n",
       "</style>\n",
       "<table border=\"1\" class=\"dataframe\">\n",
       "  <thead>\n",
       "    <tr style=\"text-align: right;\">\n",
       "      <th></th>\n",
       "      <th>AskingPrice</th>\n",
       "      <th>NumberofReplies</th>\n",
       "      <th>NumberOfPhotos</th>\n",
       "      <th>hour</th>\n",
       "      <th>buy and sell</th>\n",
       "      <th>cars &amp; vehicles</th>\n",
       "      <th>community</th>\n",
       "      <th>jobs</th>\n",
       "      <th>pets</th>\n",
       "      <th>real estate</th>\n",
       "      <th>resumes</th>\n",
       "      <th>services</th>\n",
       "      <th>vacation rentals</th>\n",
       "    </tr>\n",
       "  </thead>\n",
       "  <tbody>\n",
       "    <tr>\n",
       "      <th>0</th>\n",
       "      <td>0.01</td>\n",
       "      <td>4</td>\n",
       "      <td>2</td>\n",
       "      <td>2</td>\n",
       "      <td>0</td>\n",
       "      <td>0</td>\n",
       "      <td>0</td>\n",
       "      <td>0</td>\n",
       "      <td>1</td>\n",
       "      <td>0</td>\n",
       "      <td>0</td>\n",
       "      <td>0</td>\n",
       "      <td>0</td>\n",
       "    </tr>\n",
       "    <tr>\n",
       "      <th>1</th>\n",
       "      <td>815.00</td>\n",
       "      <td>3</td>\n",
       "      <td>9</td>\n",
       "      <td>21</td>\n",
       "      <td>0</td>\n",
       "      <td>0</td>\n",
       "      <td>0</td>\n",
       "      <td>0</td>\n",
       "      <td>0</td>\n",
       "      <td>1</td>\n",
       "      <td>0</td>\n",
       "      <td>0</td>\n",
       "      <td>0</td>\n",
       "    </tr>\n",
       "    <tr>\n",
       "      <th>2</th>\n",
       "      <td>95.00</td>\n",
       "      <td>3</td>\n",
       "      <td>2</td>\n",
       "      <td>0</td>\n",
       "      <td>1</td>\n",
       "      <td>0</td>\n",
       "      <td>0</td>\n",
       "      <td>0</td>\n",
       "      <td>0</td>\n",
       "      <td>0</td>\n",
       "      <td>0</td>\n",
       "      <td>0</td>\n",
       "      <td>0</td>\n",
       "    </tr>\n",
       "    <tr>\n",
       "      <th>3</th>\n",
       "      <td>699900.00</td>\n",
       "      <td>1</td>\n",
       "      <td>10</td>\n",
       "      <td>15</td>\n",
       "      <td>0</td>\n",
       "      <td>0</td>\n",
       "      <td>0</td>\n",
       "      <td>0</td>\n",
       "      <td>0</td>\n",
       "      <td>1</td>\n",
       "      <td>0</td>\n",
       "      <td>0</td>\n",
       "      <td>0</td>\n",
       "    </tr>\n",
       "    <tr>\n",
       "      <th>4</th>\n",
       "      <td>340.00</td>\n",
       "      <td>5</td>\n",
       "      <td>7</td>\n",
       "      <td>20</td>\n",
       "      <td>1</td>\n",
       "      <td>0</td>\n",
       "      <td>0</td>\n",
       "      <td>0</td>\n",
       "      <td>0</td>\n",
       "      <td>0</td>\n",
       "      <td>0</td>\n",
       "      <td>0</td>\n",
       "      <td>0</td>\n",
       "    </tr>\n",
       "    <tr>\n",
       "      <th>...</th>\n",
       "      <td>...</td>\n",
       "      <td>...</td>\n",
       "      <td>...</td>\n",
       "      <td>...</td>\n",
       "      <td>...</td>\n",
       "      <td>...</td>\n",
       "      <td>...</td>\n",
       "      <td>...</td>\n",
       "      <td>...</td>\n",
       "      <td>...</td>\n",
       "      <td>...</td>\n",
       "      <td>...</td>\n",
       "      <td>...</td>\n",
       "    </tr>\n",
       "    <tr>\n",
       "      <th>1048570</th>\n",
       "      <td>0.00</td>\n",
       "      <td>0</td>\n",
       "      <td>4</td>\n",
       "      <td>1</td>\n",
       "      <td>0</td>\n",
       "      <td>0</td>\n",
       "      <td>0</td>\n",
       "      <td>0</td>\n",
       "      <td>0</td>\n",
       "      <td>0</td>\n",
       "      <td>0</td>\n",
       "      <td>1</td>\n",
       "      <td>0</td>\n",
       "    </tr>\n",
       "    <tr>\n",
       "      <th>1048571</th>\n",
       "      <td>550.00</td>\n",
       "      <td>0</td>\n",
       "      <td>3</td>\n",
       "      <td>21</td>\n",
       "      <td>0</td>\n",
       "      <td>1</td>\n",
       "      <td>0</td>\n",
       "      <td>0</td>\n",
       "      <td>0</td>\n",
       "      <td>0</td>\n",
       "      <td>0</td>\n",
       "      <td>0</td>\n",
       "      <td>0</td>\n",
       "    </tr>\n",
       "    <tr>\n",
       "      <th>1048572</th>\n",
       "      <td>300.00</td>\n",
       "      <td>0</td>\n",
       "      <td>1</td>\n",
       "      <td>15</td>\n",
       "      <td>0</td>\n",
       "      <td>1</td>\n",
       "      <td>0</td>\n",
       "      <td>0</td>\n",
       "      <td>0</td>\n",
       "      <td>0</td>\n",
       "      <td>0</td>\n",
       "      <td>0</td>\n",
       "      <td>0</td>\n",
       "    </tr>\n",
       "    <tr>\n",
       "      <th>1048573</th>\n",
       "      <td>0.00</td>\n",
       "      <td>0</td>\n",
       "      <td>5</td>\n",
       "      <td>13</td>\n",
       "      <td>1</td>\n",
       "      <td>0</td>\n",
       "      <td>0</td>\n",
       "      <td>0</td>\n",
       "      <td>0</td>\n",
       "      <td>0</td>\n",
       "      <td>0</td>\n",
       "      <td>0</td>\n",
       "      <td>0</td>\n",
       "    </tr>\n",
       "    <tr>\n",
       "      <th>1048574</th>\n",
       "      <td>100.00</td>\n",
       "      <td>0</td>\n",
       "      <td>1</td>\n",
       "      <td>0</td>\n",
       "      <td>1</td>\n",
       "      <td>0</td>\n",
       "      <td>0</td>\n",
       "      <td>0</td>\n",
       "      <td>0</td>\n",
       "      <td>0</td>\n",
       "      <td>0</td>\n",
       "      <td>0</td>\n",
       "      <td>0</td>\n",
       "    </tr>\n",
       "  </tbody>\n",
       "</table>\n",
       "<p>1048575 rows × 13 columns</p>\n",
       "</div>"
      ],
      "text/plain": [
       "         AskingPrice  NumberofReplies  NumberOfPhotos  hour  buy and sell  \\\n",
       "0               0.01                4               2     2             0   \n",
       "1             815.00                3               9    21             0   \n",
       "2              95.00                3               2     0             1   \n",
       "3          699900.00                1              10    15             0   \n",
       "4             340.00                5               7    20             1   \n",
       "...              ...              ...             ...   ...           ...   \n",
       "1048570         0.00                0               4     1             0   \n",
       "1048571       550.00                0               3    21             0   \n",
       "1048572       300.00                0               1    15             0   \n",
       "1048573         0.00                0               5    13             1   \n",
       "1048574       100.00                0               1     0             1   \n",
       "\n",
       "         cars & vehicles  community  jobs  pets  real estate  resumes  \\\n",
       "0                      0          0     0     1            0        0   \n",
       "1                      0          0     0     0            1        0   \n",
       "2                      0          0     0     0            0        0   \n",
       "3                      0          0     0     0            1        0   \n",
       "4                      0          0     0     0            0        0   \n",
       "...                  ...        ...   ...   ...          ...      ...   \n",
       "1048570                0          0     0     0            0        0   \n",
       "1048571                1          0     0     0            0        0   \n",
       "1048572                1          0     0     0            0        0   \n",
       "1048573                0          0     0     0            0        0   \n",
       "1048574                0          0     0     0            0        0   \n",
       "\n",
       "         services  vacation rentals  \n",
       "0               0                 0  \n",
       "1               0                 0  \n",
       "2               0                 0  \n",
       "3               0                 0  \n",
       "4               0                 0  \n",
       "...           ...               ...  \n",
       "1048570         1                 0  \n",
       "1048571         0                 0  \n",
       "1048572         0                 0  \n",
       "1048573         0                 0  \n",
       "1048574         0                 0  \n",
       "\n",
       "[1048575 rows x 13 columns]"
      ]
     },
     "execution_count": 40,
     "metadata": {},
     "output_type": "execute_result"
    }
   ],
   "source": [
    "data=df[['AskingPrice','ParentCategory','NumberofReplies','NumberOfPhotos','hour']]\n",
    "one_hot = pd.get_dummies(data['ParentCategory'])\n",
    "# Drop column B as it is now encoded\n",
    "data = data.drop('ParentCategory',axis = 1)\n",
    "# Join the encoded data\n",
    "data = data.join(one_hot)\n",
    "data "
   ]
  },
  {
   "cell_type": "code",
   "execution_count": 41,
   "id": "79fe4fc4",
   "metadata": {},
   "outputs": [
    {
     "name": "stdout",
     "output_type": "stream",
     "text": [
      "0.5070037841796875\n",
      "[[131424   1721     55 ...      0      0      0]\n",
      " [ 53442   1438     53 ...      0      0      0]\n",
      " [ 24965    864     46 ...      0      0      0]\n",
      " ...\n",
      " [     1      0      0 ...      0      0      0]\n",
      " [     1      0      0 ...      0      0      0]\n",
      " [     1      0      0 ...      0      0      0]]\n"
     ]
    },
    {
     "data": {
      "image/png": "[encoded data removed]",
      "text/plain": [
       "<Figure size 720x720 with 1 Axes>"
      ]
     },
     "metadata": {
      "needs_background": "light"
     },
     "output_type": "display_data"
    }
   ],
   "source": [
    "from sklearn.model_selection import train_test_split\n",
    "from sklearn.metrics import confusion_matrix\n",
    "X_train, X_test, y_train, y_test = train_test_split(data.drop('NumberofReplies',axis=1),data['NumberofReplies'])\n",
    "from sklearn.ensemble import RandomForestClassifier\n",
    "rf = RandomForestClassifier(min_samples_leaf=20, n_estimators=200).fit(X_train,y_train)\n",
    "# from sklearn.model_selection import GridSearchCV\n",
    "# param = {'n_estimators':[500,200,100],'min_samples_leaf':[10,20,50]}\n",
    "# grid = GridSearchCV(clf,param).fit(X_train,y_train)\n",
    "# print(grid.best_params_)\n",
    "rf_pred = rf.predict(X_test)\n",
    "print(rf.score(X_test,y_test))\n",
    "print(confusion_matrix(y_test,rf_pred))\n",
    "importances = rf.feature_importances_\n",
    "std = np.std([tree.feature_importances_ for tree in rf.estimators_],\n",
    "             axis=0)\n",
    "indices = np.argsort(importances)[::-1]\n",
    "col_name = data.drop('NumberofReplies',axis=1).columns.values\n",
    "# Plot the feature importances of the forest\n",
    "import matplotlib.pyplot as plt\n",
    "fig = plt.figure(figsize=(10,10))\n",
    "plt.title(\"Feature importances\")\n",
    "plt.bar(range(X_train.shape[1]),\n",
    "        importances[indices],\n",
    "        yerr=std[indices],\n",
    "        align=\"center\")\n",
    "plt.xticks(range(X_train.shape[1]), np.array(col_name)[indices])\n",
    "plt.xlim([-1, X_train.shape[1]])\n",
    "fig.autofmt_xdate()\n",
    "plt.show()"
   ]
  },
  {
   "cell_type": "code",
   "execution_count": 42,
   "id": "d7d75e7d",
   "metadata": {},
   "outputs": [
    {
     "data": {
      "text/html": [
       "<div>\n",
       "<style scoped>\n",
       "    .dataframe tbody tr th:only-of-type {\n",
       "        vertical-align: middle;\n",
       "    }\n",
       "\n",
       "    .dataframe tbody tr th {\n",
       "        vertical-align: top;\n",
       "    }\n",
       "\n",
       "    .dataframe thead th {\n",
       "        text-align: right;\n",
       "    }\n",
       "</style>\n",
       "<table border=\"1\" class=\"dataframe\">\n",
       "  <thead>\n",
       "    <tr style=\"text-align: right;\">\n",
       "      <th></th>\n",
       "      <th>AskingPrice</th>\n",
       "      <th>Category</th>\n",
       "      <th>NumberofReplies</th>\n",
       "    </tr>\n",
       "  </thead>\n",
       "  <tbody>\n",
       "    <tr>\n",
       "      <th>574482</th>\n",
       "      <td>42500.0</td>\n",
       "      <td>equestrian, livestock accessories</td>\n",
       "      <td>0</td>\n",
       "    </tr>\n",
       "    <tr>\n",
       "      <th>66563</th>\n",
       "      <td>45000.0</td>\n",
       "      <td>livestock for sale</td>\n",
       "      <td>7</td>\n",
       "    </tr>\n",
       "    <tr>\n",
       "      <th>366093</th>\n",
       "      <td>100000.0</td>\n",
       "      <td>cats, kittens for sale</td>\n",
       "      <td>1</td>\n",
       "    </tr>\n",
       "    <tr>\n",
       "      <th>185330</th>\n",
       "      <td>123456.0</td>\n",
       "      <td>dogs, puppies for sale</td>\n",
       "      <td>8</td>\n",
       "    </tr>\n",
       "    <tr>\n",
       "      <th>84552</th>\n",
       "      <td>737377.0</td>\n",
       "      <td>cats, kittens for sale</td>\n",
       "      <td>1</td>\n",
       "    </tr>\n",
       "    <tr>\n",
       "      <th>472908</th>\n",
       "      <td>1000000.0</td>\n",
       "      <td>cats, kittens for sale</td>\n",
       "      <td>20</td>\n",
       "    </tr>\n",
       "    <tr>\n",
       "      <th>685093</th>\n",
       "      <td>1000000.0</td>\n",
       "      <td>other</td>\n",
       "      <td>0</td>\n",
       "    </tr>\n",
       "    <tr>\n",
       "      <th>497719</th>\n",
       "      <td>1000000.0</td>\n",
       "      <td>other</td>\n",
       "      <td>5</td>\n",
       "    </tr>\n",
       "    <tr>\n",
       "      <th>431224</th>\n",
       "      <td>19999999.0</td>\n",
       "      <td>cats, kittens for sale</td>\n",
       "      <td>15</td>\n",
       "    </tr>\n",
       "    <tr>\n",
       "      <th>827718</th>\n",
       "      <td>99999999.0</td>\n",
       "      <td>livestock for sale</td>\n",
       "      <td>0</td>\n",
       "    </tr>\n",
       "  </tbody>\n",
       "</table>\n",
       "</div>"
      ],
      "text/plain": [
       "        AskingPrice                           Category  NumberofReplies\n",
       "574482      42500.0  equestrian, livestock accessories                0\n",
       "66563       45000.0                 livestock for sale                7\n",
       "366093     100000.0             cats, kittens for sale                1\n",
       "185330     123456.0             dogs, puppies for sale                8\n",
       "84552      737377.0             cats, kittens for sale                1\n",
       "472908    1000000.0             cats, kittens for sale               20\n",
       "685093    1000000.0                              other                0\n",
       "497719    1000000.0                              other                5\n",
       "431224   19999999.0             cats, kittens for sale               15\n",
       "827718   99999999.0                 livestock for sale                0"
      ]
     },
     "execution_count": 42,
     "metadata": {},
     "output_type": "execute_result"
    }
   ],
   "source": [
    "#looking at most costly pets\n",
    "df[df.ParentCategory=='pets'][['AskingPrice','Category','NumberofReplies']].sort_values(by='AskingPrice').tail(10)"
   ]
  },
  {
   "cell_type": "code",
   "execution_count": 43,
   "id": "d2083ce6",
   "metadata": {},
   "outputs": [
    {
     "data": {
      "text/html": [
       "<div>\n",
       "<style scoped>\n",
       "    .dataframe tbody tr th:only-of-type {\n",
       "        vertical-align: middle;\n",
       "    }\n",
       "\n",
       "    .dataframe tbody tr th {\n",
       "        vertical-align: top;\n",
       "    }\n",
       "\n",
       "    .dataframe thead th {\n",
       "        text-align: right;\n",
       "    }\n",
       "</style>\n",
       "<table border=\"1\" class=\"dataframe\">\n",
       "  <thead>\n",
       "    <tr style=\"text-align: right;\">\n",
       "      <th></th>\n",
       "      <th>AskingPrice</th>\n",
       "      <th>Category</th>\n",
       "      <th>NumberofReplies</th>\n",
       "    </tr>\n",
       "  </thead>\n",
       "  <tbody>\n",
       "    <tr>\n",
       "      <th>857807</th>\n",
       "      <td>7900000.0</td>\n",
       "      <td>land for sale</td>\n",
       "      <td>0</td>\n",
       "    </tr>\n",
       "    <tr>\n",
       "      <th>66251</th>\n",
       "      <td>8500000.0</td>\n",
       "      <td>houses for sale</td>\n",
       "      <td>1</td>\n",
       "    </tr>\n",
       "    <tr>\n",
       "      <th>506650</th>\n",
       "      <td>8775000.0</td>\n",
       "      <td>land for sale</td>\n",
       "      <td>0</td>\n",
       "    </tr>\n",
       "    <tr>\n",
       "      <th>181928</th>\n",
       "      <td>9999999.0</td>\n",
       "      <td>land for sale</td>\n",
       "      <td>2</td>\n",
       "    </tr>\n",
       "    <tr>\n",
       "      <th>50869</th>\n",
       "      <td>10000000.0</td>\n",
       "      <td>land for sale</td>\n",
       "      <td>4</td>\n",
       "    </tr>\n",
       "    <tr>\n",
       "      <th>245531</th>\n",
       "      <td>14000000.0</td>\n",
       "      <td>other</td>\n",
       "      <td>3</td>\n",
       "    </tr>\n",
       "    <tr>\n",
       "      <th>938752</th>\n",
       "      <td>15478300.0</td>\n",
       "      <td>land for sale</td>\n",
       "      <td>0</td>\n",
       "    </tr>\n",
       "    <tr>\n",
       "      <th>952296</th>\n",
       "      <td>15600000.0</td>\n",
       "      <td>land for sale</td>\n",
       "      <td>0</td>\n",
       "    </tr>\n",
       "    <tr>\n",
       "      <th>350369</th>\n",
       "      <td>17250000.0</td>\n",
       "      <td>houses for sale</td>\n",
       "      <td>1</td>\n",
       "    </tr>\n",
       "    <tr>\n",
       "      <th>600231</th>\n",
       "      <td>17295300.0</td>\n",
       "      <td>land for sale</td>\n",
       "      <td>0</td>\n",
       "    </tr>\n",
       "  </tbody>\n",
       "</table>\n",
       "</div>"
      ],
      "text/plain": [
       "        AskingPrice         Category  NumberofReplies\n",
       "857807    7900000.0    land for sale                0\n",
       "66251     8500000.0  houses for sale                1\n",
       "506650    8775000.0    land for sale                0\n",
       "181928    9999999.0    land for sale                2\n",
       "50869    10000000.0    land for sale                4\n",
       "245531   14000000.0            other                3\n",
       "938752   15478300.0    land for sale                0\n",
       "952296   15600000.0    land for sale                0\n",
       "350369   17250000.0  houses for sale                1\n",
       "600231   17295300.0    land for sale                0"
      ]
     },
     "execution_count": 43,
     "metadata": {},
     "output_type": "execute_result"
    }
   ],
   "source": [
    "#Looking at most costly real estate\n",
    "df[df.ParentCategory=='real estate'][['AskingPrice','Category','NumberofReplies']].sort_values(by='AskingPrice').tail(10)"
   ]
  },
  {
   "cell_type": "code",
   "execution_count": null,
   "id": "2e6e7448",
   "metadata": {},
   "outputs": [],
   "source": []
  }
 ],
 "metadata": {
  "kernelspec": {
   "display_name": "Python 3",
   "language": "python",
   "name": "python3"
  },
  "language_info": {
   "codemirror_mode": {
    "name": "ipython",
    "version": 3
   },
   "file_extension": ".py",
   "mimetype": "text/x-python",
   "name": "python",
   "nbconvert_exporter": "python",
   "pygments_lexer": "ipython3",
   "version": "3.8.8"
  }
 },
 "nbformat": 4,
 "nbformat_minor": 5
}
